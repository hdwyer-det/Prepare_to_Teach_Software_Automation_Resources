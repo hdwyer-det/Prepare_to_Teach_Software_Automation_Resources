{
  "cells": [
    {
      "cell_type": "markdown",
      "id": "e2d41aa5-10a4-47d0-b156-993dec2dfe88",
      "metadata": {},
      "source": [
        "# Gradient Descent for Linear Regression\n",
        "\n",
        "Automating the process of optimizing $m$ and $b$ using gradient descent.\n",
        "\n",
        "$$ \\min_{m, b} J(m, b) $$\n",
        "\n",
        "| Symbol | |\n",
        "| --- | --- |\n",
        "| m | The weight (or slope) of the linear regression model. |\n",
        "| b | The y intercept of the linear regression model. |\n",
        "| J(m, b) | The cost function, typically the Mean Squared Error (MSE) |"
      ]
    },
    {
      "cell_type": "code",
      "execution_count": 1,
      "id": "cef2e914",
      "metadata": {},
      "outputs": [
        {
          "ename": "<class 'OSError'>",
          "evalue": "'./deeplearning.mplstyle' not found in the style library and input is not a valid URL or path; see `style.available` for list of available styles",
          "output_type": "error",
          "traceback": [
            "\u001b[0;31m---------------------------------------------------------------------------\u001b[0m",
            "\u001b[0;31mFileNotFoundError\u001b[0m                         Traceback (most recent call last)",
            "File \u001b[0;32m/lib/python3.10/site-packages/matplotlib/style/core.py:127\u001b[0m, in \u001b[0;36muse\u001b[0;34m(style)\u001b[0m\n\u001b[1;32m    126\u001b[0m \u001b[38;5;28;01mtry\u001b[39;00m:\n\u001b[0;32m--> 127\u001b[0m     rc \u001b[38;5;241m=\u001b[39m \u001b[43mrc_params_from_file\u001b[49m\u001b[43m(\u001b[49m\u001b[43mstyle\u001b[49m\u001b[43m,\u001b[49m\u001b[43m \u001b[49m\u001b[43muse_default_template\u001b[49m\u001b[38;5;241;43m=\u001b[39;49m\u001b[38;5;28;43;01mFalse\u001b[39;49;00m\u001b[43m)\u001b[49m\n\u001b[1;32m    128\u001b[0m     _apply_style(rc)\n",
            "File \u001b[0;32m/lib/python3.10/site-packages/matplotlib/__init__.py:852\u001b[0m, in \u001b[0;36mrc_params_from_file\u001b[0;34m(fname, fail_on_error, use_default_template)\u001b[0m\n\u001b[1;32m    838\u001b[0m \u001b[38;5;124;03m\"\"\"\u001b[39;00m\n\u001b[1;32m    839\u001b[0m \u001b[38;5;124;03mConstruct a `RcParams` from file *fname*.\u001b[39;00m\n\u001b[1;32m    840\u001b[0m \n\u001b[0;32m   (...)\u001b[0m\n\u001b[1;32m    850\u001b[0m \u001b[38;5;124;03m    parameters specified in the file. (Useful for updating dicts.)\u001b[39;00m\n\u001b[1;32m    851\u001b[0m \u001b[38;5;124;03m\"\"\"\u001b[39;00m\n\u001b[0;32m--> 852\u001b[0m config_from_file \u001b[38;5;241m=\u001b[39m \u001b[43m_rc_params_in_file\u001b[49m\u001b[43m(\u001b[49m\u001b[43mfname\u001b[49m\u001b[43m,\u001b[49m\u001b[43m \u001b[49m\u001b[43mfail_on_error\u001b[49m\u001b[38;5;241;43m=\u001b[39;49m\u001b[43mfail_on_error\u001b[49m\u001b[43m)\u001b[49m\n\u001b[1;32m    854\u001b[0m \u001b[38;5;28;01mif\u001b[39;00m \u001b[38;5;129;01mnot\u001b[39;00m use_default_template:\n",
            "File \u001b[0;32m/lib/python3.10/site-packages/matplotlib/__init__.py:778\u001b[0m, in \u001b[0;36m_rc_params_in_file\u001b[0;34m(fname, transform, fail_on_error)\u001b[0m\n\u001b[1;32m    777\u001b[0m rc_temp \u001b[38;5;241m=\u001b[39m {}\n\u001b[0;32m--> 778\u001b[0m \u001b[38;5;28;01mwith\u001b[39;00m _open_file_or_url(fname) \u001b[38;5;28;01mas\u001b[39;00m fd:\n\u001b[1;32m    779\u001b[0m     \u001b[38;5;28;01mtry\u001b[39;00m:\n",
            "File \u001b[0;32m/lib/python3.10/contextlib.py:135\u001b[0m, in \u001b[0;36m_GeneratorContextManager.__enter__\u001b[0;34m(self)\u001b[0m\n\u001b[1;32m    134\u001b[0m \u001b[38;5;28;01mtry\u001b[39;00m:\n\u001b[0;32m--> 135\u001b[0m     \u001b[38;5;28;01mreturn\u001b[39;00m \u001b[38;5;28;43mnext\u001b[39;49m\u001b[43m(\u001b[49m\u001b[38;5;28;43mself\u001b[39;49m\u001b[38;5;241;43m.\u001b[39;49m\u001b[43mgen\u001b[49m\u001b[43m)\u001b[49m\n\u001b[1;32m    136\u001b[0m \u001b[38;5;28;01mexcept\u001b[39;00m \u001b[38;5;167;01mStopIteration\u001b[39;00m:\n",
            "File \u001b[0;32m/lib/python3.10/site-packages/matplotlib/__init__.py:755\u001b[0m, in \u001b[0;36m_open_file_or_url\u001b[0;34m(fname)\u001b[0m\n\u001b[1;32m    754\u001b[0m     encoding \u001b[38;5;241m=\u001b[39m \u001b[38;5;124m\"\u001b[39m\u001b[38;5;124mutf-8\u001b[39m\u001b[38;5;124m\"\u001b[39m\n\u001b[0;32m--> 755\u001b[0m \u001b[38;5;28;01mwith\u001b[39;00m \u001b[38;5;28;43mopen\u001b[39;49m\u001b[43m(\u001b[49m\u001b[43mfname\u001b[49m\u001b[43m,\u001b[49m\u001b[43m \u001b[49m\u001b[43mencoding\u001b[49m\u001b[38;5;241;43m=\u001b[39;49m\u001b[43mencoding\u001b[49m\u001b[43m)\u001b[49m \u001b[38;5;28;01mas\u001b[39;00m f:\n\u001b[1;32m    756\u001b[0m     \u001b[38;5;28;01myield\u001b[39;00m f\n",
            "\u001b[0;31mFileNotFoundError\u001b[0m: [Errno 44] No such file or directory: './deeplearning.mplstyle'",
            "\nThe above exception was the direct cause of the following exception:\n",
            "\u001b[0;31mOSError\u001b[0m                                   Traceback (most recent call last)",
            "Cell \u001b[0;32mIn[2], line 4\u001b[0m\n\u001b[1;32m      2\u001b[0m \u001b[38;5;28;01mimport\u001b[39;00m \u001b[38;5;21;01mnumpy\u001b[39;00m \u001b[38;5;28;01mas\u001b[39;00m \u001b[38;5;21;01mnp\u001b[39;00m\n\u001b[1;32m      3\u001b[0m \u001b[38;5;28;01mimport\u001b[39;00m \u001b[38;5;21;01mmatplotlib\u001b[39;00m\u001b[38;5;21;01m.\u001b[39;00m\u001b[38;5;21;01mpyplot\u001b[39;00m \u001b[38;5;28;01mas\u001b[39;00m \u001b[38;5;21;01mplt\u001b[39;00m\n\u001b[0;32m----> 4\u001b[0m \u001b[43mplt\u001b[49m\u001b[38;5;241;43m.\u001b[39;49m\u001b[43mstyle\u001b[49m\u001b[38;5;241;43m.\u001b[39;49m\u001b[43muse\u001b[49m\u001b[43m(\u001b[49m\u001b[38;5;124;43m'\u001b[39;49m\u001b[38;5;124;43m./deeplearning.mplstyle\u001b[39;49m\u001b[38;5;124;43m'\u001b[39;49m\u001b[43m)\u001b[49m\n\u001b[1;32m      5\u001b[0m \u001b[38;5;28;01mfrom\u001b[39;00m \u001b[38;5;21;01mutils_grad_dec\u001b[39;00m \u001b[38;5;28;01mimport\u001b[39;00m plt_contour_mgrad, plt_divergence, plt_gradients, compute_model_output\n",
            "File \u001b[0;32m/lib/python3.10/site-packages/matplotlib/style/core.py:130\u001b[0m, in \u001b[0;36muse\u001b[0;34m(style)\u001b[0m\n\u001b[1;32m    128\u001b[0m     _apply_style(rc)\n\u001b[1;32m    129\u001b[0m \u001b[38;5;28;01mexcept\u001b[39;00m \u001b[38;5;167;01mIOError\u001b[39;00m \u001b[38;5;28;01mas\u001b[39;00m err:\n\u001b[0;32m--> 130\u001b[0m     \u001b[38;5;28;01mraise\u001b[39;00m \u001b[38;5;167;01mIOError\u001b[39;00m(\n\u001b[1;32m    131\u001b[0m         \u001b[38;5;124m\"\u001b[39m\u001b[38;5;132;01m{!r}\u001b[39;00m\u001b[38;5;124m not found in the style library and input is not a \u001b[39m\u001b[38;5;124m\"\u001b[39m\n\u001b[1;32m    132\u001b[0m         \u001b[38;5;124m\"\u001b[39m\u001b[38;5;124mvalid URL or path; see `style.available` for list of \u001b[39m\u001b[38;5;124m\"\u001b[39m\n\u001b[1;32m    133\u001b[0m         \u001b[38;5;124m\"\u001b[39m\u001b[38;5;124mavailable styles\u001b[39m\u001b[38;5;124m\"\u001b[39m\u001b[38;5;241m.\u001b[39mformat(style)) \u001b[38;5;28;01mfrom\u001b[39;00m \u001b[38;5;21;01merr\u001b[39;00m\n",
            "\u001b[0;31mOSError\u001b[0m: './deeplearning.mplstyle' not found in the style library and input is not a valid URL or path; see `style.available` for list of available styles"
          ]
        }
      ],
      "source": [
        "import math, copy\n",
        "import numpy as np\n",
        "import matplotlib.pyplot as plt\n",
        "plt.style.use('./deeplearning.mplstyle')\n",
        "from utils_grad_dec import plt_contour_mgrad, plt_divergence, plt_gradients, compute_model_output"
      ]
    },
    {
      "cell_type": "code",
      "execution_count": null,
      "id": "0ec3cc4d",
      "metadata": {},
      "outputs": [],
      "source": [
        "# Load a simple data set\n",
        "x_train = np.array([1.0, 2.0])   #features\n",
        "y_train = np.array([300.0, 500.0])   #target value"
      ]
    },
    {
      "cell_type": "markdown",
      "id": "dec29d8d",
      "metadata": {},
      "source": [
        "#### Implement Gradient Descent"
      ]
    },
    {
      "cell_type": "code",
      "execution_count": null,
      "id": "a915d03c",
      "metadata": {},
      "outputs": [],
      "source": [
        "def compute_cost(x, y, m, b): \n",
        "    # number of training examples\n",
        "    n = x.shape[0] \n",
        "    cost_sum = 0 \n",
        "    for i in range(n): \n",
        "        f_mb = m * x[i] + b   \n",
        "        cost = (f_mb - y[i]) ** 2  \n",
        "        cost_sum = cost_sum + cost  \n",
        "    total_cost = (1 / (2 * n)) * cost_sum  \n",
        "    return total_cost"
      ]
    },
    {
      "cell_type": "code",
      "execution_count": null,
      "id": "d234bea4",
      "metadata": {},
      "outputs": [],
      "source": [
        "def compute_gradient(x, y, m, b): \n",
        "    \"\"\"\n",
        "    Computes the gradient for linear regression \n",
        "    Args:\n",
        "      x (ndarray (m,)): Data, m examples \n",
        "      y (ndarray (m,)): target values\n",
        "      m,b (scalar)    : model parameters  \n",
        "    Returns\n",
        "      dj_dm (scalar): The gradient of the cost m.r.t. the parameters m\n",
        "      dj_db (scalar): The gradient of the cost m.r.t. the parameter b     \n",
        "     \"\"\"\n",
        "    # Number of training examples\n",
        "    n = x.shape[0]    \n",
        "    dj_dm = 0\n",
        "    dj_db = 0\n",
        "    \n",
        "    for i in range(n):  \n",
        "        f_mb = m * x[i] + b \n",
        "        dj_dm_i = (f_mb - y[i]) * x[i] \n",
        "        dj_db_i = f_mb - y[i] \n",
        "        dj_db += dj_db_i\n",
        "        dj_dm += dj_dm_i \n",
        "    dj_dm = dj_dm / n \n",
        "    dj_db = dj_db / n \n",
        "        \n",
        "    return dj_dm, dj_db"
      ]
    },
    {
      "cell_type": "markdown",
      "id": "6e6c08ec",
      "metadata": {},
      "source": [
        "#### Visualise Gradient Decent"
      ]
    },
    {
      "cell_type": "code",
      "execution_count": null,
      "id": "d3fe9123",
      "metadata": {},
      "outputs": [],
      "source": [
        "plt_gradients(x_train,y_train, compute_cost, compute_gradient)\n",
        "plt.show()"
      ]
    },
    {
      "cell_type": "markdown",
      "id": "6d0b9f52",
      "metadata": {},
      "source": [
        "####  Gradient Descent"
      ]
    },
    {
      "cell_type": "code",
      "execution_count": null,
      "id": "f1795966",
      "metadata": {},
      "outputs": [],
      "source": [
        "def gradient_descent(x, y, m_in, b_in, alpha, num_iters, cost_function, gradient_function): \n",
        "    \"\"\"\n",
        "    Performs gradient descent to fit m,b. Updates m,b by taking \n",
        "    num_iters gradient steps with learning rate alpha\n",
        "    \n",
        "    Args:\n",
        "      x (ndarray (m,))  : Data, m examples \n",
        "      y (ndarray (m,))  : target values\n",
        "      m_in,b_in (scalar): initial values of model parameters  \n",
        "      alpha (float):     Learning rate\n",
        "      num_iters (int):   number of iterations to run gradient descent\n",
        "      cost_function:     function to call to produce cost\n",
        "      gradient_function: function to call to produce gradient\n",
        "      \n",
        "    Returns:\n",
        "      m (scalar): Updated value of parameter after running gradient descent\n",
        "      b (scalar): Updated value of parameter after running gradient descent\n",
        "      J_history (List): History of cost values\n",
        "      p_history (list): History of parameters [m,b] \n",
        "      \"\"\"\n",
        "    \n",
        "    # An array to store cost J and m's at each iteration primarily for graphing later\n",
        "    J_history = []\n",
        "    p_history = []\n",
        "    b = b_in\n",
        "    m = m_in\n",
        "    \n",
        "    for i in range(num_iters):\n",
        "        # Calculate the gradient and update the parameters using gradient_function\n",
        "        dj_dm, dj_db = gradient_function(x, y, m , b)     \n",
        "\n",
        "        # Update Parameters using equation (3) above\n",
        "        b = b - alpha * dj_db                            \n",
        "        m = m - alpha * dj_dm                            \n",
        "\n",
        "        # Save cost J at each iteration\n",
        "        if i<100000:      # prevent resource exhaustion \n",
        "            J_history.append( cost_function(x, y, m , b))\n",
        "            p_history.append([m,b])\n",
        "        # Print cost every at intervals 10 times or as many iterations if < 10\n",
        "        if i% math.ceil(num_iters/10) == 0:\n",
        "            print(f\"Iteration {i:4}: Cost {J_history[-1]:0.2e} \",\n",
        "                  f\"dj_dm: {dj_dm: 0.3e}, dj_db: {dj_db: 0.3e}  \",\n",
        "                  f\"m: {m: 0.3e}, b:{b: 0.5e}\")\n",
        " \n",
        "    return m, b, J_history, p_history #return mb and J,m history for graphing"
      ]
    },
    {
      "cell_type": "code",
      "execution_count": null,
      "id": "b3d4b57f",
      "metadata": {},
      "outputs": [],
      "source": [
        "# initialize parameters\n",
        "m_init = 0\n",
        "b_init = 0\n",
        "# some gradient descent settings\n",
        "iterations = 10000\n",
        "tmp_alpha = 1.0e-2\n",
        "# run gradient descent\n",
        "m_final, b_final, J_hist, p_hist = gradient_descent(x_train ,y_train, m_init, b_init, tmp_alpha, \n",
        "                                                    iterations, compute_cost, compute_gradient)\n",
        "print(f\"(m,b) found by gradient descent: ({m_final:8.4f},{b_final:8.4f})\")"
      ]
    },
    {
      "cell_type": "code",
      "execution_count": null,
      "id": "dbce22ad",
      "metadata": {},
      "outputs": [],
      "source": [
        "m = 0\n",
        "b = 0\n",
        "\n",
        "tmp_f_mb = compute_model_output(x_train, m, b,)\n",
        "\n",
        "# Plot\n",
        "plt.plot(x_train, tmp_f_mb, c='b',label='Our Prediction')\n",
        "plt.scatter(x_train, y_train, marker='x', c='r',label='Actual Values')\n",
        "plt.title('Apply the m,b found by gradient descent')\n",
        "plt.ylabel('Target')\n",
        "plt.xlabel('Feature')\n",
        "plt.legend()\n",
        "plt.show()"
      ]
    },
    {
      "cell_type": "code",
      "execution_count": null,
      "id": "54e364d4",
      "metadata": {},
      "outputs": [],
      "source": [
        "#Make predictions with m,b found by gradient descent\n",
        "print(f\"Feature = 1 prediction {m_final*1.0 + b_final:0.1f}\")\n",
        "print(f\"Feature = 1.2 prediction {m_final*1.2 + b_final:0.1f}\")\n",
        "print(f\"Feature = 2 prediction {m_final*2.0 + b_final:0.1f}\")"
      ]
    },
    {
      "cell_type": "markdown",
      "id": "92db7a4c",
      "metadata": {},
      "source": [
        "#### Optimal Progress of gradient descent"
      ]
    },
    {
      "cell_type": "code",
      "execution_count": null,
      "id": "c5b01cd4",
      "metadata": {},
      "outputs": [],
      "source": [
        "# plot cost versus iteration  \n",
        "fig, (ax1, ax2) = plt.subplots(1, 2, constrained_layout=True, figsize=(12,4))\n",
        "ax1.plot(J_hist[:100])\n",
        "ax2.plot(1000 + np.arange(len(J_hist[1000:])), J_hist[1000:])\n",
        "ax1.set_title(\"Cost vs. iteration(start)\");  ax2.set_title(\"Cost vs. iteration (end)\")\n",
        "ax1.set_ylabel('Cost')            ;  ax2.set_ylabel('Cost') \n",
        "ax1.set_xlabel('iteration step')  ;  ax2.set_xlabel('iteration step') \n",
        "plt.show()"
      ]
    },
    {
      "cell_type": "code",
      "execution_count": null,
      "id": "df66f677",
      "metadata": {},
      "outputs": [],
      "source": [
        "fig, ax = plt.subplots(1,1, figsize=(12, 4))\n",
        "plt_contour_mgrad(x_train, y_train, p_hist, ax, m_range=[180, 220, 0.5], b_range=[80, 120, 0.5],\n",
        "            contours=[1,5,10,20],resolution=0.5)"
      ]
    },
    {
      "cell_type": "markdown",
      "id": "0c830a52",
      "metadata": {},
      "source": [
        "#### Too High Learning Rate"
      ]
    },
    {
      "cell_type": "code",
      "execution_count": null,
      "id": "61355603",
      "metadata": {},
      "outputs": [],
      "source": [
        "m_init = 0\n",
        "b_init = 0\n",
        "iterations = 10\n",
        "tmp_alpha = 8.0e-1\n",
        "m_final, b_final, J_hist, p_hist = gradient_descent(x_train ,y_train, m_init, b_init, tmp_alpha, \n",
        "                                                    iterations, compute_cost, compute_gradient)"
      ]
    },
    {
      "cell_type": "code",
      "execution_count": null,
      "id": "22f4dbfe",
      "metadata": {},
      "outputs": [],
      "source": [
        "plt_divergence(p_hist, J_hist,x_train, y_train)\n",
        "plt.show()"
      ]
    },
    {
      "cell_type": "code",
      "execution_count": null,
      "id": "c4b17502",
      "metadata": {},
      "outputs": [],
      "source": [
        "# Gradient Descent with Non MSE Cost Function with multiple minima\n",
        "x = np.linspace(-10, 10, 500)\n",
        "y = np.linspace(-10, 10, 500)\n",
        "X, Y = np.meshgrid(x, y)\n",
        "Z = (X**2 + Y**2) * np.sin(X / 2) * np.sin(Y / 2) + 10 * np.exp(-((X - 5)**2 + (Y - 5)**2)) \\\n",
        "    + 8 * np.exp(-((X + 5)**2 + (Y + 5)**2))\n",
        "fig = plt.figure(figsize=(18, 6))\n",
        "ax = fig.add_subplot(111, projection='3d')\n",
        "surf = ax.plot_surface(X, Y, Z, cmap='viridis', edgecolor='none')\n",
        "ax.set_title(\"Surface Plot with Muktiple Lowest Cost Points\")\n",
        "ax.set_xlabel(\"Feature 1\")\n",
        "ax.set_ylabel(\"Feature 2\")\n",
        "ax.set_zlabel(\"Target\")\n",
        "fig.colorbar(surf, shrink=0.5, aspect=10)\n",
        "plt.show()"
      ]
    },
    {
      "cell_type": "code",
      "execution_count": null,
      "id": "e572db95",
      "metadata": {},
      "outputs": [],
      "source": [
        "# Normalize x_train and y_train to optimise gradient descent\n",
        "x_min, x_max = x_train.min(), x_train.max()\n",
        "y_min, y_max = y_train.min(), y_train.max()\n",
        "\n",
        "x_train_norm = (x_train - x_min) / (x_max - x_min)\n",
        "y_train_norm = (y_train - y_min) / (y_max - y_min)\n",
        "\n",
        "print(\"Normalized x_train:\", x_train_norm)\n",
        "print(\"Normalized y_train:\", y_train_norm)"
      ]
    },
    {
      "cell_type": "code",
      "execution_count": null,
      "id": "4106ffa2",
      "metadata": {},
      "outputs": [],
      "source": [
        "# initialize parameters\n",
        "m_init_norm = 0\n",
        "b_init_norm = 0\n",
        "# some gradient descent settings\n",
        "iterations_norm = 10000\n",
        "tmp_alpha_norm = 1.0e-2\n",
        "\n",
        "m_final, b_final, J_hist, p_hist = gradient_descent(x_train_norm ,y_train_norm, m_init_norm, b_init_norm, tmp_alpha_norm, \n",
        "                                                    iterations_norm, compute_cost, compute_gradient)\n",
        "fig, ax = plt.subplots(1,1, figsize=(12, 4))\n",
        "plt_contour_mgrad(x_train_norm, y_train_norm, p_hist, ax, m_range=[-2, 2, 0.1], b_range=[-2, 2, 0.1],\n",
        "            contours=[0,0.2,0.4,0.6,0.8],resolution=0.05, w_final=1, b_final=0)\n",
        "print(f\"(m,b) found by gradient descent: ({m_final:8.4f},{b_final:8.4f})\")"
      ]
    }
  ],
  "metadata": {
    "dl_toc_settings": {
      "rndtag": "40291"
    },
    "kernel_info": {
      "name": "python"
    },
    "kernelspec": {
      "display_name": "Python 3",
      "language": "python",
      "name": "python3"
    },
    "language_info": {
      "codemirror_mode": {
        "name": "python",
        "version": 3
      },
      "file_extension": ".py",
      "mimetype": "text/x-python",
      "name": "python",
      "nbconvert_exporter": "python",
      "pygments_lexer": "ipython3",
      "version": "3.12.1"
    },
    "nteract": {
      "version": "nteract-front-end@1.0.0"
    },
    "toc-autonumbering": false
  },
  "nbformat": 4,
  "nbformat_minor": 5
}
