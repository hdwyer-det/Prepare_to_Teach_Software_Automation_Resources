{
 "cells": [
  {
   "cell_type": "markdown",
   "metadata": {},
   "source": [
    "# Week 2 - Problem Set\n",
    "\n",
    "Practice what you learnt today with these problems; I will share the answers on Monday before the next workshop."
   ]
  },
  {
   "cell_type": "code",
   "execution_count": null,
   "metadata": {},
   "outputs": [],
   "source": [
    "# Run the dependencies before you begin\n",
    "import numpy as np\n",
    "import matplotlib.pyplot as plt\n",
    "from utils_common import generate_data\n",
    "\n",
    "plt.style.use('deeplearning.mplstyle')"
   ]
  },
  {
   "cell_type": "markdown",
   "metadata": {},
   "source": [
    "**1. Using MD syntax, create a table of the two regression algorithms we have covered so far with the following headings.**\n",
    "\n",
    "- Algorythm\n",
    "- Regression or Classification\n",
    "- Popular uses\n",
    "\n",
    "| Algorythm | Regression or Classification | Popular uses |\n",
    "| --- | --- | --- |\n",
    "| Linear Regression | Regression | Stock management, house prices, student grades, etc |\n",
    "| Logistic Regression | Classification | Online advertising, simple recomendations, etc  |"
   ]
  },
  {
   "cell_type": "markdown",
   "metadata": {},
   "source": [
    "**2. In a markdown block, outline why more than 3 degrees of polynomial expression are not recommended in Machine Learning.**\n"
   ]
  },
  {
   "cell_type": "markdown",
   "metadata": {},
   "source": [
    "Degrees of polynomial expression are number of poly parts that are fitted to a model. In the case of Polynomial Linear Regression a polynomial expression allows the line to have multiple coefecients. It is considered best practice to limited polynomial expressions to only 2-3 degrees otherwise the model will be too complex and likely overfit the data as it will fit to the outliers and noise more."
   ]
  },
  {
   "cell_type": "markdown",
   "metadata": {},
   "source": [
    "**3. Modify the code block below to label the two categories, apply a colour to each category, enable the legend, add a title \"Logistic Data,\" and label the X & Y Axis with \"Feature\" and \"Target.\"**\n",
    "\n",
    "| Category | Label |\n",
    "| --- | --- |\n",
    "| 0 | Australia |\n",
    "| 1 | New Zealand |\n",
    "\n",
    "See code changes below"
   ]
  },
  {
   "cell_type": "code",
   "execution_count": 8,
   "metadata": {},
   "outputs": [
    {
     "data": {
      "image/png": "[encoded data removed]",
      "text/plain": [
       "<Figure size 640x480 with 1 Axes>"
      ]
     },
     "metadata": {},
     "output_type": "display_data"
    }
   ],
   "source": [
    "# Linear Regression For Classification\n",
    "\n",
    "m = generate_data(20, 50, 0, 0, 300, 0.8)\n",
    "n = generate_data(0, 30, 1, 1, 300, 0.8)\n",
    "\n",
    "# Add a title\n",
    "plt.title('Logistic Data')\n",
    "# Add X & Y axis labels\n",
    "plt.xlabel('Feature')\n",
    "plt.ylabel('Target')\n",
    "# Add labels and chand colour attributes\n",
    "plt.scatter(m[0], m[1], c='r', label='Australia')\n",
    "plt.scatter(n[0], n[1], c='b', label='New Zealand')\n",
    "# Show legend\n",
    "plt.legend()\n",
    "plt.show()"
   ]
  },
  {
   "cell_type": "markdown",
   "metadata": {},
   "source": [
    "**4. In a markdown block, outline why Linear Regression is not a good machine learning model for classification.**"
   ]
  },
  {
   "cell_type": "markdown",
   "metadata": {},
   "source": [
    "Linear Regression is a machine learning algorithm where a straight line is fitted into a dataset to represent a linear relationship between the features and the target. Linear Regression could be used for classification by implying a decision boundary out of a chosen regression point. The model will have very poor intuition around the decision boundary, especially if the coefficient is below 1:1. A Logistic Regression model is preferred for classification because a sigmoid function is fitted to the data and has stronger intuition near the decision boundary, outputting a probability score for classification."
   ]
  },
  {
   "cell_type": "markdown",
   "metadata": {},
   "source": [
    "__5. In a markdown block, outline the machine learning Logistic Regression algorithm.__"
   ]
  },
  {
   "cell_type": "markdown",
   "metadata": {},
   "source": [
    "The Machine Learning Logistic Regression Algorithm takes in a data set with classes and features that are characteristics of the classes (can be classes or data). It has a sigmoid function that sets a sigmoid (S) curve then it has a cost function that is able to measure the logistic loss of each item to create a cost for the whole model. It then applies a gradient descent algorithm that loops through all the possible bias $b$ and weights $w$ of the input features to find the lowest possible cost for the model. The algorithm returns a probability that an item is a class and is not a class (between 1 and zero), which can be used for predictions."
   ]
  },
  {
   "cell_type": "markdown",
   "metadata": {},
   "source": [
    "**6. Using the [OOP Logistic Regression](4.OOP_Logistic_Regression.ipynb) as an example, design, fit and evaluate an [Iris classification OOP implementation](6.OOP_Iris_Logistic_Regression.ipynb).**"
   ]
  },
  {
   "cell_type": "markdown",
   "metadata": {},
   "source": [
    "See [Week_2_OOP_Iris_Logistic_Regression_Answers.ipynb](Week_2_OOP_Iris_Logistic_Regression_Answers.ipynb)"
   ]
  },
  {
   "cell_type": "markdown",
   "metadata": {},
   "source": [
    "__7. After completing Logistic Regression for the Iris data set (Q6), justify why you selected the features you did for your model.__"
   ]
  },
  {
   "cell_type": "markdown",
   "metadata": {},
   "source": [
    "I selected the 'petal_width' and 'petal_length' features. After visualising the features in a scatter plot, the two classes (0 & 1) were best separated through these two features as they had no overlap near the decision boundary. By selecting these two features, my Logistic regression Model had a very strong intuition for classifying these two features with a very low mean squared error and mean sum error."
   ]
  }
 ],
 "metadata": {
  "kernelspec": {
   "display_name": "Python 3",
   "language": "python",
   "name": "python3"
  },
  "language_info": {
   "codemirror_mode": {
    "name": "ipython",
    "version": 3
   },
   "file_extension": ".py",
   "mimetype": "text/x-python",
   "name": "python",
   "nbconvert_exporter": "python",
   "pygments_lexer": "ipython3",
   "version": "3.12.1"
  }
 },
 "nbformat": 4,
 "nbformat_minor": 2
}
