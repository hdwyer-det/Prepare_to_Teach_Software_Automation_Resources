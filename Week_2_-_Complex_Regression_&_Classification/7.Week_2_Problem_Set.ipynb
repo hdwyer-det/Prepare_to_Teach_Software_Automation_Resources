{
 "cells": [
  {
   "cell_type": "markdown",
   "metadata": {},
   "source": [
    "# Week 2 - Problem Set\n",
    "\n",
    "Practice what you learnt today with these problems; I will share the answers on Monday before the next workshop."
   ]
  },
  {
   "cell_type": "code",
   "execution_count": 9,
   "metadata": {},
   "outputs": [],
   "source": [
    "# Run the dependencies before you begin\n",
    "import numpy as np\n",
    "import matplotlib.pyplot as plt\n",
    "from utils_common import generate_data\n",
    "\n",
    "plt.style.use('deeplearning.mplstyle')"
   ]
  },
  {
   "cell_type": "markdown",
   "metadata": {},
   "source": [
    "**1. Using MD syntax, create a table of the two regression algorithms we have covered so far with the following headings.**\n",
    "\n",
    "- Algorythm\n",
    "- Regression or Classification\n",
    "- Popular uses"
   ]
  },
  {
   "cell_type": "markdown",
   "metadata": {},
   "source": [
    "| Algorithm | Linear Regression | Logistic Regression |\n",
    "| --- | --- | --- |\n",
    "| Category | Predicts numeric values | Predicts classification |\n",
    "| Popular uses | Predicting house values | Predicting email categories |\n"
   ]
  },
  {
   "cell_type": "markdown",
   "metadata": {},
   "source": [
    "**2. In a markdown block, outline why more than 3 degrees of polynomial expression are not recommended in Machine Learning.**\n"
   ]
  },
  {
   "cell_type": "markdown",
   "metadata": {},
   "source": [
    "Results in a too complex model that may overfit to the training data"
   ]
  },
  {
   "cell_type": "markdown",
   "metadata": {},
   "source": [
    "**3. Modify the code block below to label the two categories, apply a colour to each category, enable the legend, add a title \"Logistic Data,\" and label the X & Y Axis with \"Feature\" and \"Target.\"**\n",
    "\n",
    "| Category | Label |\n",
    "| --- | --- |\n",
    "| 0 | Australia |\n",
    "| 1 | New Zealand |"
   ]
  },
  {
   "cell_type": "code",
   "execution_count": 10,
   "metadata": {},
   "outputs": [
    {
     "data": {
      "image/png": "[encoded data removed]",
      "text/plain": [
       "<Figure size 640x480 with 1 Axes>"
      ]
     },
     "metadata": {},
     "output_type": "display_data"
    }
   ],
   "source": [
    "# Linear Regression For Classification\n",
    "m = generate_data(20, 50, 0, 0, 300, 0.8)\n",
    "n = generate_data(0, 30, 1, 1, 300, 0.8)\n",
    "plt.scatter(m[0], m[1], c='r', label=\"Target=0\")\n",
    "plt.scatter(n[0], n[1], c='b', label=\"Target=1\")\n",
    "plt.legend()\n",
    "\n",
    "# Set the title\n",
    "plt.title(\"Logistic Data\")\n",
    "# Set the y-axis label\n",
    "plt.ylabel('Target')\n",
    "# Set the x-axis label\n",
    "plt.xlabel('Feature')\n",
    "\n",
    "plt.show()"
   ]
  },
  {
   "cell_type": "markdown",
   "metadata": {},
   "source": [
    "**4. In a markdown block, outline why Linear Regression is not a good machine learning model for classification.**"
   ]
  },
  {
   "cell_type": "markdown",
   "metadata": {},
   "source": [
    "Linear regression is not good for classification as:\n",
    "* It predicts numeric values\n",
    "* The straight line has too much of a middle ground with high gaps between the data and the classification\n",
    "\n",
    "A Logistic Regression model is preferred for classification because a sigmoid function is fitted to the data and has stronger intuition near the decision boundary, outputting a probability score for classification."
   ]
  },
  {
   "cell_type": "markdown",
   "metadata": {},
   "source": [
    "__5. In a markdown block, outline the machine learning Logistic Regression algorithm.__"
   ]
  },
  {
   "cell_type": "markdown",
   "metadata": {},
   "source": [
    "Logistic regression algorithm is used to predict classification. This can be used for both:\n",
    "* Binary classification: (e.g. True/False; Pass/Fail; Interview or Don't Interview)\n",
    "* More than 2 classes (e.g. Email categorisation: Inbox, Other, Spam\n",
    "\n",
    "The algorithm creates a non-linear model (sigmoid function), which is curved and usually has steep sections at the decision boundaries (separating the classes). The model predicts a probability for which a data item (single or multi featured) belongs to a class.\n",
    "\n",
    "The decision boundary can be adjusted based on the context. For example, if diagnosing whether or not someone is at risk of cancer it may be preferred to have more false positives than false negatives."
   ]
  },
  {
   "cell_type": "markdown",
   "metadata": {},
   "source": [
    "**6. Using the [OOP Logistic Regression](4.OOP_Logistic_Regression.ipynb) as an example, design, fit and evaluate an [Iris classification OOP implementation](6.OOP_Iris_Logistic_Regression.ipynb).**"
   ]
  },
  {
   "cell_type": "markdown",
   "metadata": {},
   "source": [
    "TO DO"
   ]
  },
  {
   "cell_type": "markdown",
   "metadata": {},
   "source": [
    "__7. After completing Logistic Regression for the Iris data set (Q6), justify why you selected the features you did for your model.__"
   ]
  }
 ],
 "metadata": {
  "kernelspec": {
   "display_name": "Python 3",
   "language": "python",
   "name": "python3"
  },
  "language_info": {
   "codemirror_mode": {
    "name": "ipython",
    "version": 3
   },
   "file_extension": ".py",
   "mimetype": "text/x-python",
   "name": "python",
   "nbconvert_exporter": "python",
   "pygments_lexer": "ipython3",
   "version": "3.12.1"
  }
 },
 "nbformat": 4,
 "nbformat_minor": 2
}
